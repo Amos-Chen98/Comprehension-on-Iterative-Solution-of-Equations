{
 "cells": [
  {
   "cell_type": "markdown",
   "id": "afbff22f",
   "metadata": {},
   "source": [
    "# 数值分析第一次大作业\n",
    "\n",
    "参考书：《数值分析（第4版）》 颜庆津 北京航空航天大学出版社\n",
    "\n",
    "题目：P239 第四题"
   ]
  },
  {
   "cell_type": "code",
   "execution_count": 92,
   "id": "fe0c78ad",
   "metadata": {},
   "outputs": [],
   "source": [
    "import math"
   ]
  },
  {
   "cell_type": "code",
   "execution_count": 93,
   "id": "863be504",
   "metadata": {},
   "outputs": [
    {
     "name": "stdout",
     "output_type": "stream",
     "text": [
      "1.0\n"
     ]
    }
   ],
   "source": [
    "k_dim = 1000\n",
    "t_array =  [1 + 0.001 * (k - 1) for k in range(1, k_dim + 1)]\n",
    "print(t_array[0])"
   ]
  },
  {
   "cell_type": "code",
   "execution_count": 94,
   "id": "16e1c4b6",
   "metadata": {},
   "outputs": [],
   "source": [
    "def f_b(b, t):\n",
    "    return math.exp(-t * b) - t * math.log(b)"
   ]
  },
  {
   "cell_type": "markdown",
   "id": "2055489e",
   "metadata": {},
   "source": [
    "使用割线法求解非线性方程（参考：P80）"
   ]
  },
  {
   "cell_type": "code",
   "execution_count": 95,
   "id": "0c12562e",
   "metadata": {},
   "outputs": [],
   "source": [
    "def solve_b(k):\n",
    "    iter_num = 0\n",
    "    t = t_array[k - 1]\n",
    "    x_ = 0\n",
    "    x_k = 0.9\n",
    "    x_k1 = 2\n",
    "    while abs(x_k - x_) / abs(x_k) > 1e-12:\n",
    "        iter_num += 1\n",
    "        x_ = x_k\n",
    "        x_k = x_k1\n",
    "        x_k1 = x_k - (f_b(x_k, t) * (x_k - x_)) / (f_b(x_k, t) - f_b(x_, t)) # 割线法\n",
    "        \n",
    "#     print('Return after %d iterations' % iter_num)\n",
    "    return x_k1"
   ]
  },
  {
   "cell_type": "markdown",
   "id": "ecd481d6",
   "metadata": {},
   "source": [
    "求b_k"
   ]
  },
  {
   "cell_type": "code",
   "execution_count": 91,
   "id": "95a0cbb0",
   "metadata": {},
   "outputs": [],
   "source": [
    "b_array = [solve_b(k) for k in range(1, 1001)]\n",
    "# print(b_array)"
   ]
  },
  {
   "cell_type": "code",
   "execution_count": null,
   "id": "fba66576",
   "metadata": {},
   "outputs": [],
   "source": []
  }
 ],
 "metadata": {
  "kernelspec": {
   "display_name": "Python 3 (ipykernel)",
   "language": "python",
   "name": "python3"
  },
  "language_info": {
   "codemirror_mode": {
    "name": "ipython",
    "version": 3
   },
   "file_extension": ".py",
   "mimetype": "text/x-python",
   "name": "python",
   "nbconvert_exporter": "python",
   "pygments_lexer": "ipython3",
   "version": "3.8.12"
  }
 },
 "nbformat": 4,
 "nbformat_minor": 5
}
