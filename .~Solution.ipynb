{
 "cells": [
  {
   "cell_type": "markdown",
   "id": "afbff22f",
   "metadata": {},
   "source": [
    "# 数值分析第一次大作业\n",
    "\n",
    "参考书：《数值分析（第4版）》 颜庆津 北京航空航天大学出版社\n",
    "\n",
    "题目：P239 第四题"
   ]
  },
  {
   "cell_type": "code",
   "execution_count": 1,
   "id": "339e335c",
   "metadata": {},
   "outputs": [],
   "source": [
    "import math\n",
    "import numpy as np"
   ]
  },
  {
   "cell_type": "code",
   "execution_count": 2,
   "id": "863be504",
   "metadata": {},
   "outputs": [
    {
     "name": "stdout",
     "output_type": "stream",
     "text": [
      "1.0\n"
     ]
    }
   ],
   "source": [
    "k_dim = 1000\n",
    "t_list =  [1 + 0.001 * (k - 1) for k in range(1, k_dim + 1)]\n",
    "print(t_list[0])"
   ]
  },
  {
   "cell_type": "code",
   "execution_count": 3,
   "id": "d84996d5",
   "metadata": {},
   "outputs": [],
   "source": [
    "def f_b(b, t):\n",
    "    return math.exp(-t * b) - t * math.log(b)"
   ]
  },
  {
   "cell_type": "markdown",
   "id": "a587a6c5",
   "metadata": {},
   "source": [
    "使用割线法求解非线性方程（参考：P80）"
   ]
  },
  {
   "cell_type": "code",
   "execution_count": 4,
   "id": "0c12562e",
   "metadata": {},
   "outputs": [],
   "source": [
    "def solve_b(k):\n",
    "    iter_num = 0\n",
    "    t = t_list[k - 1]\n",
    "    x_ = 0\n",
    "    x_k = 0.9\n",
    "    x_k1 = 2\n",
    "    while abs(x_k - x_) / abs(x_k) > 1e-12:\n",
    "        iter_num += 1\n",
    "        x_ = x_k\n",
    "        x_k = x_k1\n",
    "        x_k1 = x_k - (f_b(x_k, t) * (x_k - x_)) / (f_b(x_k, t) - f_b(x_, t)) # 割线法\n",
    "        \n",
    "#     print('Return after %d iterations' % iter_num)\n",
    "    return x_k1"
   ]
  },
  {
   "cell_type": "markdown",
   "id": "e4b9ec1d",
   "metadata": {},
   "source": [
    "求b_k"
   ]
  },
  {
   "cell_type": "code",
   "execution_count": 5,
   "id": "8efef8fe",
   "metadata": {},
   "outputs": [],
   "source": [
    "b_list = [solve_b(k) for k in range(1, 1001)]\n",
    "# for k in range(1000):\n",
    "#     print('%6e' % b_list[k])"
   ]
  },
  {
   "cell_type": "markdown",
   "id": "f1a0acc4",
   "metadata": {},
   "source": [
    "非线性方程组(A.1)"
   ]
  },
  {
   "cell_type": "code",
   "execution_count": 6,
   "id": "07a48a2d",
   "metadata": {},
   "outputs": [],
   "source": [
    "def F_A(x, k):\n",
    "    # x为列向量，因此需二次索引\n",
    "    x1 = x[0][0]\n",
    "    x2 = x[1][0]\n",
    "    x3 = x[2][0]\n",
    "    x4 = x[3][0]\n",
    "    x5 = x[4][0]\n",
    "    t = t_list[k - 1]\n",
    "    f1 = math.exp(-x1) + math.exp(-2 * x2) + x3 - 2 * x4 + t * x5 - 5.3\n",
    "    f2 = math.exp(-2 * x1) + math.exp(-x2) - 2 * x3 + t * x4 - x5 + 25.6\n",
    "    f3 = t * x1 + 3 * x2 + math.exp(-x3) - 3 * x5 + 37.8\n",
    "    f4 = 2 * x1 + t * x2 + x3 - math.exp(-x4) + 2 * math.exp(-2 * x5) - 31.3\n",
    "    f5 = x1 - 2 * x2 - 3 * t * x3 + math.exp(-2 * x4) + 3 * math.exp(-x5) + 42.1\n",
    "    \n",
    "    return np.array([[f1], [f2], [f3], [f4], [f5]])"
   ]
  },
  {
   "cell_type": "code",
   "execution_count": 7,
   "id": "f91d8c4c",
   "metadata": {},
   "outputs": [],
   "source": [
    "def get_h(x, F, lower_bound):\n",
    "    c = 2 \n",
    "    h = c * np.linalg.norm(F) # 此处是牛顿-斯蒂芬森法，c1=c2=...=c5\n",
    "    x_ori = x\n",
    "    x = x_ori + h * np.array([np.ones(5)]).T\n",
    "    while sum(x >= lower_bound * np.array([np.ones(5)]).T) < 5:\n",
    "        # 保证x + h在定义域内，否则继续增大h\n",
    "        h = h * c\n",
    "        x = x_ori + h * np.array([np.ones(5)]).T\n",
    "        print(h)\n",
    "        \n",
    "    return h * np.ones(5)"
   ]
  },
  {
   "cell_type": "code",
   "execution_count": 8,
   "id": "495c32d7",
   "metadata": {},
   "outputs": [],
   "source": [
    "def J(x, h, k):\n",
    "    J = np.zeros((5,5))\n",
    "    e = np.eye(5)\n",
    "    for i in range(5):\n",
    "        J[:,[i]] = (F_A(x + h[i] * e[:,[i]], k) - F_A(x, k)) / h[i]\n",
    "        \n",
    "    return J"
   ]
  },
  {
   "cell_type": "code",
   "execution_count": 9,
   "id": "4294a4cf",
   "metadata": {},
   "outputs": [
    {
     "name": "stdout",
     "output_type": "stream",
     "text": [
      "[[-2.15245607e-02 -1.64659208e-04  1.00000000e+00 -2.00000000e+00\n",
      "   1.24900000e+00]\n",
      " [-1.21667612e-03 -7.91844336e-03 -2.00000000e+00  1.24900000e+00\n",
      "  -1.00000000e+00]\n",
      " [ 1.24900000e+00  3.00000000e+00 -2.91303252e-03  0.00000000e+00\n",
      "  -3.00000000e+00]\n",
      " [ 2.00000000e+00  1.24900000e+00  1.00000000e+00  1.07164477e-03\n",
      "  -8.16298739e-07]\n",
      " [ 1.00000000e+00 -2.00000000e+00 -3.74700000e+00 -3.01583859e-06\n",
      "  -1.18270824e-03]]\n"
     ]
    }
   ],
   "source": [
    "x = np.array([[3],[4],[5],[6],[7]])\n",
    "h = [2,2,2,2,2]\n",
    "print(J(x, h, 250))"
   ]
  },
  {
   "cell_type": "markdown",
   "id": "e8459a16",
   "metadata": {},
   "source": [
    "使用离散牛顿法求解非线性方程组（参考：P92）"
   ]
  },
  {
   "cell_type": "code",
   "execution_count": 12,
   "id": "be860100",
   "metadata": {},
   "outputs": [],
   "source": [
    "def solve_A(k):\n",
    "    iter_num = 0\n",
    "    lower_bound = 2\n",
    "    epsilon = 1e-12\n",
    "    x_array = np.array([[10],[10],[10],[10],[10]])\n",
    "    while sum(F_A(x_array, k) > epsilon * np.array([np.ones(5)]).T) :\n",
    "        # 只要F0中有一个元素超过epsilon,则继续迭代\n",
    "        iter_num += 1\n",
    "        h = get_h(x_array, F_A(x_array, k), lower_bound)\n",
    "        s = np.dot(np.linalg.inv(J(x_array, h, k)), F_A(x_array, k))\n",
    "#         print(s)\n",
    "        a = 1\n",
    "        \n",
    "        x_array_ori = x_array\n",
    "        x_array = x_array_ori - a * s\n",
    "        \n",
    "        # 如果x1-x5中任意一个超出了定义域，则缩小迭代步长，重新由上一个点迭代一次\n",
    "        while sum(x_array >= lower_bound * np.array([np.ones(5)]).T) < 5:\n",
    "            a = a * 0.5\n",
    "            x_array = x_array_ori - a * s\n",
    "        \n",
    "    print('Return after %d iterations' % iter_num)\n",
    "    return x_array"
   ]
  },
  {
   "cell_type": "code",
   "execution_count": 13,
   "id": "21377a62",
   "metadata": {},
   "outputs": [
    {
     "name": "stdout",
     "output_type": "stream",
     "text": [
      "Return after 3 iterations\n",
      "[[ 5.16049754]\n",
      " [15.6765181 ]\n",
      " [ 5.30248711]\n",
      " [15.00328482]\n",
      " [29.99834368]]\n"
     ]
    }
   ],
   "source": [
    "print(solve_A(1))"
   ]
  },
  {
   "cell_type": "code",
   "execution_count": null,
   "id": "ba60d360",
   "metadata": {},
   "outputs": [],
   "source": []
  }
 ],
 "metadata": {
  "kernelspec": {
   "display_name": "Python 3 (ipykernel)",
   "language": "python",
   "name": "python3"
  },
  "language_info": {
   "codemirror_mode": {
    "name": "ipython",
    "version": 3
   },
   "file_extension": ".py",
   "mimetype": "text/x-python",
   "name": "python",
   "nbconvert_exporter": "python",
   "pygments_lexer": "ipython3",
   "version": "3.8.12"
  }
 },
 "nbformat": 4,
 "nbformat_minor": 5
}
