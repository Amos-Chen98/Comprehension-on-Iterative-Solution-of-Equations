{
 "cells": [
  {
   "cell_type": "markdown",
   "id": "afbff22f",
   "metadata": {},
   "source": [
    "# 数值分析第一次大作业\n",
    "\n",
    "参考书：《数值分析（第4版）》 颜庆津 北京航空航天大学出版社\n",
    "\n",
    "题目：P239 第四题"
   ]
  },
  {
   "cell_type": "code",
   "execution_count": 1,
   "id": "66b6b259",
   "metadata": {},
   "outputs": [],
   "source": [
    "import math\n",
    "import numpy as np"
   ]
  },
  {
   "cell_type": "code",
   "execution_count": 2,
   "id": "863be504",
   "metadata": {},
   "outputs": [
    {
     "name": "stdout",
     "output_type": "stream",
     "text": [
      "1.0\n"
     ]
    }
   ],
   "source": [
    "k_dim = 1000\n",
    "t_array =  [1 + 0.001 * (k - 1) for k in range(1, k_dim + 1)]\n",
    "print(t_array[0])"
   ]
  },
  {
   "cell_type": "code",
   "execution_count": 3,
   "id": "d6d73868",
   "metadata": {},
   "outputs": [],
   "source": [
    "def f_b(b, t):\n",
    "    return math.exp(-t * b) - t * math.log(b)"
   ]
  },
  {
   "cell_type": "markdown",
   "id": "70a665c6",
   "metadata": {},
   "source": [
    "使用割线法求解非线性方程（参考：P80）"
   ]
  },
  {
   "cell_type": "code",
   "execution_count": 4,
   "id": "0c12562e",
   "metadata": {},
   "outputs": [],
   "source": [
    "def solve_b(k):\n",
    "    iter_num = 0\n",
    "    t = t_array[k - 1]\n",
    "    x_ = 0\n",
    "    x_k = 0.9\n",
    "    x_k1 = 2\n",
    "    while abs(x_k - x_) / abs(x_k) > 1e-12:\n",
    "        iter_num += 1\n",
    "        x_ = x_k\n",
    "        x_k = x_k1\n",
    "        x_k1 = x_k - (f_b(x_k, t) * (x_k - x_)) / (f_b(x_k, t) - f_b(x_, t)) # 割线法\n",
    "        \n",
    "#     print('Return after %d iterations' % iter_num)\n",
    "    return x_k1"
   ]
  },
  {
   "cell_type": "markdown",
   "id": "e03940ab",
   "metadata": {},
   "source": [
    "求b_k"
   ]
  },
  {
   "cell_type": "code",
   "execution_count": 5,
   "id": "e84edd44",
   "metadata": {},
   "outputs": [],
   "source": [
    "b_array = [solve_b(k) for k in range(1, 1001)]\n",
    "# print(b_array)"
   ]
  },
  {
   "cell_type": "markdown",
   "id": "aa0b57f0",
   "metadata": {},
   "source": [
    "非线性方程组(A.1)"
   ]
  },
  {
   "cell_type": "code",
   "execution_count": 6,
   "id": "c42938ab",
   "metadata": {},
   "outputs": [],
   "source": [
    "def F_A(x, k):\n",
    "    # x为列向量，因此需二次索引\n",
    "    x1 = x[0][0]\n",
    "    x2 = x[1][0]\n",
    "    x3 = x[2][0]\n",
    "    x4 = x[3][0]\n",
    "    x5 = x[4][0]\n",
    "    t = t_array[k - 1]\n",
    "    f1 = math.exp(-x1) + math.exp(-2 * x2) + x3 - 2 * x4 + t * x5 - 5.3\n",
    "    f2 = math.exp(-2 * x1) + math.exp(-x2) - 2 * x3 + t * x4 - x5 + 25.6\n",
    "    f3 = t * x1 + 3 * x2 + math.exp(-x3) - 3 * x5 + 37.8\n",
    "    f4 = 2 * x1 + t * x2 + x3 - math.exp(-x4) + 2 * math.exp(-2 * x5) - 31.3\n",
    "    f5 = x1 - 2 * x2 - 3 * t * x3 + math.exp(-2 * x4) + 3 * math.exp(-x5) + 42.1\n",
    "    \n",
    "    return np.array([[f1], [f2], [f3], [f4], [f5]])"
   ]
  },
  {
   "cell_type": "code",
   "execution_count": 7,
   "id": "f3332e2b",
   "metadata": {},
   "outputs": [],
   "source": [
    "def get_h(x, F, lower_bound):\n",
    "    c = 2 \n",
    "    h = c * np.linalg.norm(F) # 此处是牛顿-斯蒂芬森法，c1=c2=...=c5\n",
    "    x = x + h * np.array([np.ones(5)]).T\n",
    "    while sum(x >= lower_bound * np.array([np.ones(5)]).T) < 5:\n",
    "        # 保证x + h在定义域内，否则继续增大h\n",
    "        h = h * c\n",
    "        x = x + h * np.array([np.ones(5)]).T\n",
    "        \n",
    "    return h * np.ones(5)"
   ]
  },
  {
   "cell_type": "code",
   "execution_count": 8,
   "id": "f0c23a8e",
   "metadata": {},
   "outputs": [],
   "source": [
    "def J(x, h, k):\n",
    "    J = np.zeros((5,5))\n",
    "    e = np.eye(5)\n",
    "    for i in range(5):\n",
    "        J[:,[i]] = (F_A(x + h[i] * e[:,[i]], k) - F_A(x, k)) / h[i]\n",
    "        \n",
    "    return J"
   ]
  },
  {
   "cell_type": "code",
   "execution_count": 9,
   "id": "62b2ebb0",
   "metadata": {},
   "outputs": [
    {
     "name": "stdout",
     "output_type": "stream",
     "text": [
      "[[-2.15245607e-02 -1.64659208e-04  1.00000000e+00 -2.00000000e+00\n",
      "   1.00000000e+00]\n",
      " [-1.21667612e-03 -7.91844336e-03 -2.00000000e+00  1.00000000e+00\n",
      "  -1.00000000e+00]\n",
      " [ 1.00000000e+00  3.00000000e+00 -2.91303252e-03  0.00000000e+00\n",
      "  -3.00000000e+00]\n",
      " [ 2.00000000e+00  1.00000000e+00  1.00000000e+00  1.07164477e-03\n",
      "  -8.16298739e-07]\n",
      " [ 1.00000000e+00 -2.00000000e+00 -3.00000000e+00 -3.01583859e-06\n",
      "  -1.18270824e-03]]\n"
     ]
    }
   ],
   "source": [
    "x = np.array([[3],[4],[5],[6],[7]])\n",
    "h = [2,2,2,2,2]\n",
    "print(J(x, h, 1))"
   ]
  },
  {
   "cell_type": "markdown",
   "id": "66085ea6",
   "metadata": {},
   "source": [
    "使用离散牛顿法求解非线性方程组（参考：P92）"
   ]
  },
  {
   "cell_type": "code",
   "execution_count": 10,
   "id": "57678306",
   "metadata": {},
   "outputs": [],
   "source": [
    "def solve_A(k):\n",
    "    iter_num = 0\n",
    "    lower_bound = 2\n",
    "    epsilon = 1e-12\n",
    "    x_array = np.array([[10],[10],[10],[10],[10]])\n",
    "    while sum(F_A(x_array, k) > epsilon * np.array([np.ones(5)]).T) :\n",
    "        # 只要F0中有一个元素超过epsilon,则继续迭代\n",
    "        iter_num += 1\n",
    "        h = get_h(x_array, F_A(x_array, k), lower_bound)\n",
    "        s = np.dot(np.linalg.inv(J(x_array, h, k)), F_A(x_array, k))\n",
    "        a = 1\n",
    "        x_array_ori = x_array\n",
    "        x_array = x_array_ori - a * s\n",
    "        while sum(x_array >= lower_bound * np.array([np.ones(5)]).T) < 5:\n",
    "            a = a * 0.5\n",
    "            x_array = x_array_ori - a * s\n",
    "        \n",
    "    print('Return after %d iterations' % iter_num)\n",
    "    return x_array"
   ]
  },
  {
   "cell_type": "code",
   "execution_count": 11,
   "id": "0c345017",
   "metadata": {},
   "outputs": [
    {
     "name": "stdout",
     "output_type": "stream",
     "text": [
      "Return after 3 iterations\n",
      "[[ 6.37442356]\n",
      " [ 7.85596308]\n",
      " [ 9.76818647]\n",
      " [14.9977638 ]\n",
      " [22.83151734]]\n"
     ]
    }
   ],
   "source": [
    "print(solve_A(119))"
   ]
  },
  {
   "cell_type": "code",
   "execution_count": null,
   "id": "b6324f4b",
   "metadata": {},
   "outputs": [],
   "source": []
  }
 ],
 "metadata": {
  "kernelspec": {
   "display_name": "Python 3 (ipykernel)",
   "language": "python",
   "name": "python3"
  },
  "language_info": {
   "codemirror_mode": {
    "name": "ipython",
    "version": 3
   },
   "file_extension": ".py",
   "mimetype": "text/x-python",
   "name": "python",
   "nbconvert_exporter": "python",
   "pygments_lexer": "ipython3",
   "version": "3.8.12"
  }
 },
 "nbformat": 4,
 "nbformat_minor": 5
}
