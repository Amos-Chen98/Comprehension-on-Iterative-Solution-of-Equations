{
 "cells": [
  {
   "cell_type": "markdown",
   "id": "afbff22f",
   "metadata": {},
   "source": [
    "# 数值分析第二次大作业\n",
    "\n",
    "### 陈奕丞  SY2103504\n",
    "\n",
    "参考书：《数值分析（第4版）》 颜庆津 北京航空航天大学出版社  \n",
    "题目：P239 第四题\n",
    "\n",
    "## 一、问题重述\n",
    "\n",
    "求解线性方程组$Ay=b$，其中\n",
    "\n",
    "$$\\mathbf{A}=\\left[\\begin{array}{ccccccc}a_{1} & 10 & & & & & \\\\ 1 & a_{2} & 10 & & & & \\\\ 10 & 1 & a_{3} & 10 & & & \\\\ & \\ddots & \\ddots & \\ddots & \\ddots & & \\\\ & & \\ddots & \\ddots & \\ddots & \\ddots & \\\\ & & & \\ddots & \\ddots & \\ddots & 10 \\\\ & & & & 10 & 1 & a_{1000}\\end{array}\\right], \\quad \\mathbf{b}=\\left[\\begin{array}{c}b_{1} \\\\ b_{2} \\\\ \\vdots \\\\ \\vdots \\\\ b_{1000}\\end{array}\\right]$$\n",
    "\n",
    "而$a_{5(k-1)+i}(i=1,2,3,4,5)$是非线性方程组\n",
    "\n",
    "$$\\left\\{\\begin{array}{cc}e^{-x_{1}}+e^{-2 x_{2}}+x_{3}-2 x_{4}+t_{k} x_{5}-5.3 & =0 \\\\ e^{-2 x_{1}}+e^{-x_{2}}-2 x_{3}+t_{k} x_{4}-x_{5}+25.6 & =0 \\\\ t_{k} x_{1}+3 x_{2}+e^{-x_{3}}-3 x_{5}+37.8 & =0 \\\\ 2 x_{1}+t_{k} x_{2}+x_{3}-e^{-x_{4}}+2 e^{-2 x_{5}}-31.3 & =0 \\\\ x_{1}-2 x_{2}-3 t_{k} x_{3}+e^{-2 x_{4}}+3 e^{-x_{5}}+42.1 & =0\\end{array}\\right.$$\n",
    "\n",
    "在区域$D=\\left\\{x_{i} \\geq 2, i=1,2,3,4,5\\right\\} \\subset \\mathbb{R}^{5}$内的解，其中$t_{k}=1+0.001(k-1),k=1,2,\\cdots,200$  \n",
    "\n",
    "$b_k$是方程$e^{-t_{k} b_{k}}=t_{k} \\ln b_{k}$的解，$k=1,2,\\cdots,1000$，其中$t_{k}=1+0.001(k-1),k=1,2,\\cdots,1000$  "
   ]
  },
  {
   "cell_type": "markdown",
   "id": "b8c8f963",
   "metadata": {},
   "source": [
    "## 二、向量$b$求解\n",
    "### 2.1 参数初始化与非线性函数构建\n",
    "首先导入相关库，初始化已知量$t_{k}$，并构建向量b对应的函数$f_b$。"
   ]
  },
  {
   "cell_type": "code",
   "execution_count": 1,
   "id": "339e335c",
   "metadata": {},
   "outputs": [],
   "source": [
    "import math\n",
    "import numpy as np\n",
    "from scipy.sparse import csr_matrix"
   ]
  },
  {
   "cell_type": "code",
   "execution_count": 2,
   "id": "863be504",
   "metadata": {},
   "outputs": [],
   "source": [
    "t_list =  [1 + 0.001 * (k - 1) for k in range(1, 1001)]"
   ]
  },
  {
   "cell_type": "code",
   "execution_count": 3,
   "id": "d84996d5",
   "metadata": {},
   "outputs": [],
   "source": [
    "def f_b(b, t):\n",
    "    return math.exp(-t * b) - t * math.log(b)"
   ]
  },
  {
   "cell_type": "markdown",
   "id": "a587a6c5",
   "metadata": {},
   "source": [
    "### 2.2 基于割线法求解非线性方程\n",
    "先要求解非线性方程$f(b)=0$，典型Newton的一个明显缺点是对每一轮迭代都需要计算$f^{\\prime} \\left(b_{k}\\right)$，因此此处使用割线法求解。求解公式为\n",
    "\n",
    "$$x_{k+1}=x_{k}-\\frac{f\\left(x_{k}\\right)\\left(x_{k}-x_{k-1}\\right)}{f\\left(x_{k}\\right)-f\\left(x_{k-1}\\right)} \\quad(k=0,1, \\cdots)$$\n",
    "\n",
    "编写割线法求解代码如下，终止条件为$\\frac{\\left|x_{k}-x_{k-1}\\right|}{\\left|x_{k}\\right|} \\leq 10^{-12}$"
   ]
  },
  {
   "cell_type": "code",
   "execution_count": 4,
   "id": "0c12562e",
   "metadata": {},
   "outputs": [],
   "source": [
    "def solve_b(k):\n",
    "    iter_num = 0\n",
    "    t = t_list[k - 1]\n",
    "    x_ = 0\n",
    "    x_k = 0.9\n",
    "    x_k1 = 2\n",
    "    while abs(x_k - x_) / abs(x_k) > 1e-12:\n",
    "        iter_num += 1\n",
    "        x_ = x_k\n",
    "        x_k = x_k1\n",
    "        x_k1 = x_k - (f_b(x_k, t) * (x_k - x_)) / (f_b(x_k, t) - f_b(x_, t))\n",
    "        \n",
    "#     print('Return after %d iterations' % iter_num)\n",
    "    return x_k1"
   ]
  },
  {
   "cell_type": "markdown",
   "id": "e4b9ec1d",
   "metadata": {},
   "source": [
    "### 2.3 向量$b$求解结果\n",
    "对$k$的每一个取值，求解$b_k$，并以e型输出向量$b$的前10个结果，$b$向量全部元素见附件。"
   ]
  },
  {
   "cell_type": "code",
   "execution_count": 5,
   "id": "8efef8fe",
   "metadata": {},
   "outputs": [
    {
     "name": "stdout",
     "output_type": "stream",
     "text": [
      "First 10 elements:\n",
      "1.309800e+00\n",
      "1.309197e+00\n",
      "1.308596e+00\n",
      "1.307997e+00\n",
      "1.307399e+00\n",
      "1.306803e+00\n",
      "1.306208e+00\n",
      "1.305614e+00\n",
      "1.305023e+00\n",
      "1.304432e+00\n"
     ]
    }
   ],
   "source": [
    "b_list = [solve_b(k) for k in range(1, 1001)]\n",
    "\n",
    "print('First 10 elements:')\n",
    "for k in range(10):\n",
    "    print('%6e' % b_list[k])"
   ]
  },
  {
   "cell_type": "markdown",
   "id": "f1a0acc4",
   "metadata": {},
   "source": [
    "## 三、向量$a$求解\n",
    "### 3.1 非线性方程组读入\n",
    "首先输入非线性方程组(A.1)。"
   ]
  },
  {
   "cell_type": "code",
   "execution_count": 6,
   "id": "07a48a2d",
   "metadata": {},
   "outputs": [],
   "source": [
    "def F_A(x, k):\n",
    "    # x为列向量，因此需二次索引\n",
    "    x1 = x[0][0]\n",
    "    x2 = x[1][0]\n",
    "    x3 = x[2][0]\n",
    "    x4 = x[3][0]\n",
    "    x5 = x[4][0]\n",
    "    t = t_list[k - 1]\n",
    "    f1 = math.exp(-x1) + math.exp(-2 * x2) + x3 - 2 * x4 + t * x5 - 5.3\n",
    "    f2 = math.exp(-2 * x1) + math.exp(-x2) - 2 * x3 + t * x4 - x5 + 25.6\n",
    "    f3 = t * x1 + 3 * x2 + math.exp(-x3) - 3 * x5 + 37.8\n",
    "    f4 = 2 * x1 + t * x2 + x3 - math.exp(-x4) + 2 * math.exp(-2 * x5) - 31.3\n",
    "    f5 = x1 - 2 * x2 - 3 * t * x3 + math.exp(-2 * x4) + 3 * math.exp(-x5) + 42.1\n",
    "    \n",
    "    return np.array([[f1], [f2], [f3], [f4], [f5]])"
   ]
  },
  {
   "cell_type": "markdown",
   "id": "76993f11",
   "metadata": {},
   "source": [
    "### 3.2 基于离散牛顿法求解非线性方程组\n",
    "为避免求导运算，使用离散牛顿法。值得注意的是，由于本题有定义域的限制，解应处于定义域$D=\\left\\{x_{i} \\geq 2, i=1,2,3,4,5\\right\\} \\subset \\mathbb{R}^{5}$内，因此需要在迭代求解时对x的迭代轨迹施加约束，保证x不超出定义域。具体地，需对参考书上P92的离散牛顿法做如下两点改动：\n",
    "\n",
    "改动一：设计获取$\\boldsymbol{h}^{(k)}$的子函数，确保$\\boldsymbol{x}^{(k)}+\\boldsymbol{h}^{(k)}$在定义域D内\n",
    "\n",
    "使用牛顿-斯蒂芬森方法确定$\\boldsymbol{h}$，若$\\boldsymbol{x}^{(k)}+\\boldsymbol{h}^{(k)}$不在定义域内，由于本例中$\\boldsymbol{x}$与$\\boldsymbol{h}$均为正数，因此增大$\\boldsymbol{h}$，直到$\\boldsymbol{x}^{(k)}+\\boldsymbol{h}^{(k)}$处于定义域内。代码实现如下："
   ]
  },
  {
   "cell_type": "code",
   "execution_count": 7,
   "id": "f91d8c4c",
   "metadata": {},
   "outputs": [],
   "source": [
    "def get_h(x, F, lower_bound):\n",
    "    c = 2 \n",
    "    h = c * np.linalg.norm(F) # 此处是牛顿-斯蒂芬森法，c1=c2=...=c5\n",
    "    x_ori = x\n",
    "    x = x_ori + h * np.array([np.ones(5)]).T\n",
    "    while sum(x >= lower_bound * np.array([np.ones(5)]).T) < 5:\n",
    "        # 保证x + h在定义域内，否则继续增大h\n",
    "        h = h * c\n",
    "        x = x_ori + h * np.array([np.ones(5)]).T\n",
    "        \n",
    "    return h * np.ones(5)"
   ]
  },
  {
   "cell_type": "code",
   "execution_count": 8,
   "id": "495c32d7",
   "metadata": {},
   "outputs": [],
   "source": [
    "def J(x, h, k):\n",
    "    J = np.zeros((5,5))\n",
    "    e = np.eye(5)\n",
    "    for i in range(5):\n",
    "        J[:,[i]] = (F_A(x + h[i] * e[:,[i]], k) - F_A(x, k)) / h[i]\n",
    "        \n",
    "    return J"
   ]
  },
  {
   "cell_type": "markdown",
   "id": "e8459a16",
   "metadata": {},
   "source": [
    "改动二：对离散牛顿法设计变步长策略\n",
    "\n",
    "为确保$\\boldsymbol{x}$处于定义域内，对于离散牛顿法迭代公式的每一步$\\boldsymbol{x}^{(k+1)}=\\boldsymbol{x}^{(k)}-\\boldsymbol{J}\\left(\\boldsymbol{x}^{(k)}, \\boldsymbol{h}^{(k)}\\right)^{-1} \\boldsymbol{F}\\left(\\boldsymbol{x}^{(k)}\\right) \\quad(k=0,1, \\cdots)$，都检验迭代后的x是否在定义域内，若$\\boldsymbol{x}$超出定义域，则对步长$\\boldsymbol{J}\\left(\\boldsymbol{x}^{(k)}, \\boldsymbol{h}^{(k)}\\right)^{-1} \\boldsymbol{F}\\left(\\boldsymbol{x}^{(k)}\\right) \\quad(k=0,1, \\cdots)$乘以一个小于1的因子$\\alpha$，再次检验迭代后的点是否在定义域内，如有必要，继续调整$\\alpha$，直到迭代后的点在定义域内。\n",
    "\n",
    "综合上述两项改动，针对本例的离散牛顿法流程如下：  \n",
    "对于$k=0,1,\\cdots$，执行\n",
    "1. 选取$\\boldsymbol{h}^{(k)}=\\left(h_{1}^{(k)}, h_{2}^{(k)}, \\cdots, h_{n}^{(k)}\\right)^{\\mathrm{T}}, h_{j}^{(k)} \\neq 0(j=1,2, \\cdots, n)$\n",
    "2. 计算$\\boldsymbol{F}\\left(\\boldsymbol{x}^{(k)}\\right)$ 和 $\\boldsymbol{J}\\left(\\boldsymbol{x}^{(k)}, \\boldsymbol{h}^{(k)}\\right)$\n",
    "3. 计算$\\boldsymbol{x}^{(k+1)}=\\boldsymbol{x}^{(k)}-\\alpha \\boldsymbol{J}\\left(\\boldsymbol{x}^{(k)}, \\boldsymbol{h}^{(k)}\\right)^{-1} \\boldsymbol{F}\\left(\\boldsymbol{x}^{(k)}\\right) \\quad(k=0,1, \\cdots)$\n",
    "4. 若满足终止条件$\\left\\|\\mathbf{F}\\left(x^{(k+1)}\\right)\\right\\|_{\\infty} \\leq 10^{-12}$，停止迭代，否则转1继续迭代。\n",
    "\n",
    "求解非线性方程组的代码如下："
   ]
  },
  {
   "cell_type": "code",
   "execution_count": 9,
   "id": "be860100",
   "metadata": {},
   "outputs": [],
   "source": [
    "def solve_a(k):\n",
    "    iter_num = 0\n",
    "    lower_bound = 2\n",
    "    epsilon = 1e-12\n",
    "    x_array = np.array([[10],[10],[10],[10],[10]])\n",
    "    while sum(F_A(x_array, k) > epsilon * np.array([np.ones(5)]).T) :\n",
    "        # 只要F0中有一个元素超过epsilon,则继续迭代\n",
    "        iter_num += 1\n",
    "        h = get_h(x_array, F_A(x_array, k), lower_bound)\n",
    "        s = np.dot(np.linalg.inv(J(x_array, h, k)), F_A(x_array, k))\n",
    "        a = 1\n",
    "        \n",
    "        x_array_ori = x_array\n",
    "        x_array = x_array_ori - a * s\n",
    "        \n",
    "        # 如果x1-x5中任意一个超出了定义域，则缩小迭代步长，重新由上一个点迭代一次\n",
    "        while sum(x_array >= lower_bound * np.array([np.ones(5)]).T) < 5:\n",
    "            a = a * 0.5\n",
    "            x_array = x_array_ori - a * s\n",
    "        \n",
    "#     print('Return after %d iterations' % iter_num)\n",
    "    x_array = np.transpose(x_array)\n",
    "    \n",
    "    # 返回一个长度为5的list\n",
    "    return x_array.tolist()[0]"
   ]
  },
  {
   "cell_type": "markdown",
   "id": "cbe172ec",
   "metadata": {},
   "source": [
    "### 3.3 向量$a$求解结果\n",
    "使用上述方法求解矩阵A中的对角线元素$a_{1}\\cdots a_{1000}$，输出向量$\\boldsymbol{a}$的前10个元素（全部元素见附件），并检验每个$a_k$是否都在定义域内。可以看出，每个$a$都满足定义域约束。"
   ]
  },
  {
   "cell_type": "code",
   "execution_count": 10,
   "id": "ba60d360",
   "metadata": {
    "scrolled": true
   },
   "outputs": [
    {
     "name": "stdout",
     "output_type": "stream",
     "text": [
      "First 10 elements:\n",
      "5.160498e+00\n",
      "1.567652e+01\n",
      "5.302487e+00\n",
      "1.500328e+01\n",
      "2.999834e+01\n",
      "5.165717e+00\n",
      "1.560918e+01\n",
      "5.343773e+00\n",
      "1.500691e+01\n",
      "2.993440e+01\n",
      "True\n"
     ]
    }
   ],
   "source": [
    "a_list = []\n",
    "for k in range(1, 201):\n",
    "    a_list.extend(solve_a(k))\n",
    "    \n",
    "print('First 10 elements:')\n",
    "for k in range(10):\n",
    "    print('%6e' % a_list[k])\n",
    "\n",
    "# 检验每个a是否都>=2\n",
    "a_array = np.array(a_list)\n",
    "print(sum(a_array > 2 * np.ones(1000)) == 1000)"
   ]
  },
  {
   "cell_type": "markdown",
   "id": "fcc34c1b",
   "metadata": {},
   "source": [
    "## 四、方程$Ay=b$求解与分析\n",
    "### 4.1 矩阵A存储\n",
    "由于A是稀疏矩阵，构建一个二维数组存储A的所有元素将造成不必要的内存开支，因此此处不存储A的零元素。具体地，将A以压缩稀疏行矩阵(Compressed Sparse Row Matrix, CSR Matrix)的形式存储。在Python中，这一操作可以借助`scipy.sparse.csr_matrix`类实现。下面的代码展示了将A矩阵读入并转换为稀疏矩阵的过程。"
   ]
  },
  {
   "cell_type": "code",
   "execution_count": 11,
   "id": "b37a0a31",
   "metadata": {},
   "outputs": [],
   "source": [
    "def a(i, j):\n",
    "    if i == j:\n",
    "        return a_list[i]\n",
    "    elif i == j + 1:\n",
    "        return 1\n",
    "    elif i == j - 1 or i == j + 2:\n",
    "        return 10\n",
    "    else:\n",
    "        return 0\n",
    "    \n",
    "A = np.zeros((1000,1000))\n",
    "for i in range(1000):\n",
    "    for j in range(1000):\n",
    "        A[i,j] = a(i, j)\n",
    "        \n",
    "A = csr_matrix(A)"
   ]
  },
  {
   "cell_type": "markdown",
   "id": "9978d792",
   "metadata": {},
   "source": [
    "### 4.2 基于Jacobi迭代法求解线性方程组\n",
    "#### 4.2.1 Jacobi迭代收敛条件判断\n",
    "虽然Jacobi迭代的过程中无需显式地计算出矩阵D、L、U，但为判断Jacobi迭代矩阵$G_J$的谱半径是否能保证迭代收敛，而计算$G_J$矩阵需要矩阵D、L、U，因此，此处仍然给出A = D + L + U的分解代码："
   ]
  },
  {
   "cell_type": "code",
   "execution_count": 12,
   "id": "d1213859",
   "metadata": {},
   "outputs": [],
   "source": [
    "def get_G(A):\n",
    "    \n",
    "    def d(i, j, A):\n",
    "        if i == j:\n",
    "            return A[i,j]\n",
    "        else:\n",
    "            return 0\n",
    "\n",
    "    def l(i, j, A):\n",
    "        if i > j:\n",
    "            return A[i,j]\n",
    "        else:\n",
    "            return 0\n",
    "\n",
    "    def u(i, j, A):\n",
    "        if i < j:\n",
    "            return A[i,j]\n",
    "        else:\n",
    "            return 0\n",
    "\n",
    "    D = np.zeros((1000,1000))\n",
    "    L = np.zeros((1000,1000))\n",
    "    U = np.zeros((1000,1000))\n",
    "    for i in range(1000):\n",
    "        for j in range(1000):\n",
    "            D[i,j] = d(i, j, A)\n",
    "            L[i,j] = l(i, j, A)\n",
    "            U[i,j] = u(i, j, A)\n",
    "        \n",
    "    G = np.dot(- np.linalg.inv(D),(L + U))\n",
    "    \n",
    "    return G"
   ]
  },
  {
   "cell_type": "markdown",
   "id": "2bd883f4",
   "metadata": {},
   "source": [
    "编写计算一个矩阵谱半径的子函数如下："
   ]
  },
  {
   "cell_type": "code",
   "execution_count": 13,
   "id": "6b838f95",
   "metadata": {},
   "outputs": [],
   "source": [
    "def spectral_radius(M):\n",
    "    lam, alpha = np.linalg.eig(M) #a为特征值集合，b为特征值向量\n",
    "    return max(abs(lam)) #返回谱半径"
   ]
  },
  {
   "cell_type": "markdown",
   "id": "dcf5bf80",
   "metadata": {},
   "source": [
    "计算Jacobi迭代法中的$G_J$，并计算其谱半径"
   ]
  },
  {
   "cell_type": "code",
   "execution_count": 14,
   "id": "8bcb6ecc",
   "metadata": {
    "scrolled": true
   },
   "outputs": [
    {
     "name": "stdout",
     "output_type": "stream",
     "text": [
      "2.31523937130752\n"
     ]
    }
   ],
   "source": [
    "G = get_G(A)\n",
    "print(spectral_radius(G))"
   ]
  },
  {
   "cell_type": "markdown",
   "id": "9c2a68d9",
   "metadata": {},
   "source": [
    "#### 4.2.2 基于高斯消去法的矩阵初等变换\n",
    "由上述计算结果，可见$G_J$的谱半径大于1，因此直接使用Jacobi迭代法无法正确解出y的值，应对系数矩阵A做预处理，保证使用Jacobi迭代法构造出的$G_J$谱半径小于1。预处理的方式是构造Ay=b的同解方程组，即对(A|b)做初等行变换，一种可行的方法是将A变为上三角/下三角矩阵，此时易证Jacobi迭代法构造出的$G_J$特征值全为0，即可保证迭代收敛。初等行变换的一种可行方法是使用高斯消去法，具体代码见下："
   ]
  },
  {
   "cell_type": "code",
   "execution_count": 15,
   "id": "02c06639",
   "metadata": {},
   "outputs": [],
   "source": [
    "def pre_condition(A, b):\n",
    "    A = A.toarray()\n",
    "    n = len(b)\n",
    "    for k in range(n-1):\n",
    "        for i in range(k+1,n):\n",
    "            m = A[i,k] / A[k,k]        \n",
    "            A[i,k+1:] = A[i,k+1:] - m * A[k,k+1:] \n",
    "            b[i] = b[i] - m * b[k]\n",
    "\n",
    "    for j in range(n):\n",
    "        for i in range (j+1, n):\n",
    "            A[i, j] = 0\n",
    "            \n",
    "#     A = csr_matrix(A)\n",
    "    return A, b"
   ]
  },
  {
   "cell_type": "markdown",
   "id": "69f675a5",
   "metadata": {},
   "source": [
    "使用高斯消去法对矩阵进行预处理，再次检验Jacobi迭代法中$G_J$的谱半径。"
   ]
  },
  {
   "cell_type": "code",
   "execution_count": 16,
   "id": "760ddb94",
   "metadata": {
    "scrolled": false
   },
   "outputs": [
    {
     "name": "stdout",
     "output_type": "stream",
     "text": [
      "0.0\n"
     ]
    }
   ],
   "source": [
    "A, b_list = pre_condition(A, b_list)\n",
    "G = get_G(A)\n",
    "print(spectral_radius(G))"
   ]
  },
  {
   "cell_type": "markdown",
   "id": "f917b1f9",
   "metadata": {},
   "source": [
    "将矩阵A化成上三角矩阵后，$G_J$的谱半径为0，与理论分析结果吻合，下面可以开始使用Jacobi迭代法求解$Ay=b$。"
   ]
  },
  {
   "cell_type": "markdown",
   "id": "4923554a",
   "metadata": {},
   "source": [
    "#### 4.2.3 Jacobi迭代法\n",
    "Jacobi迭代法代码如下，终止条件设置为$\\left\\|\\mathbf{y}^{k}-\\mathbf{y}^{k-1}\\right\\|_{\\infty} \\leq 10^{-10}$。"
   ]
  },
  {
   "cell_type": "code",
   "execution_count": 17,
   "id": "f5bdb094",
   "metadata": {},
   "outputs": [],
   "source": [
    "def solve_y(A, b_list, y0):\n",
    "    iter_num = 0\n",
    "    # y为array型行向量\n",
    "    n = y0.size\n",
    "    y_next = y0\n",
    "    y = y_next - np.ones(n) # 该值无意义，仅为使while循环开始\n",
    "    \n",
    "    while max(abs(y_next - y)) > 1e-10:\n",
    "        iter_num += 1\n",
    "        y = y_next\n",
    "        y_hat = np.zeros(n)\n",
    "        for i in range(n):\n",
    "            y_hat[i] = (- sum([A[i,j] * y[j] for j in range(n) if j != i]) + b_list[i]) / A[i,i]\n",
    "        \n",
    "        y_next = y_hat\n",
    "    \n",
    "    print('Return after %d iteration(s)' % iter_num)\n",
    "    return y_next"
   ]
  },
  {
   "cell_type": "markdown",
   "id": "cf71e56d",
   "metadata": {},
   "source": [
    "### 4.3 向量$y$求解结果\n",
    "使用上述Jacobi迭代法，以0为初值，求解$y$并输出向量$y$的前10个元素（全部元素见附件）。"
   ]
  },
  {
   "cell_type": "code",
   "execution_count": 18,
   "id": "64132f01",
   "metadata": {},
   "outputs": [
    {
     "name": "stdout",
     "output_type": "stream",
     "text": [
      "Return after 55 iteration(s)\n",
      "First 10 elements:\n",
      "1.005432e-01\n",
      "7.909468e-02\n",
      "-3.127517e-03\n",
      "2.406533e-02\n",
      "1.591185e-02\n",
      "8.372796e-02\n",
      "6.177224e-02\n",
      "9.914706e-03\n",
      "3.535806e-02\n",
      "1.467703e-02\n"
     ]
    }
   ],
   "source": [
    "y0 = np.zeros(1000)\n",
    "y = solve_y(A, b_list, y0)\n",
    "\n",
    "print('First 10 elements:')\n",
    "for k in range(10):\n",
    "    print('%6e' % y[k])"
   ]
  },
  {
   "cell_type": "markdown",
   "id": "81979dde",
   "metadata": {},
   "source": [
    "## 五、总结与思考\n",
    "1. 就本文求解这个特定的线性方程组问题而言，比较容易直接想到的方法是三角分解法（参考书P24），因为A矩阵是典型的带状线性方程组。本文“初等变换-Jacobi迭代”的方法虽然不局限于解带状方程组，但是计算较为繁琐，计算代价也不低。\n",
    "2. 在将A矩阵变换为上三角矩阵时，可以借助高斯消去法，但是不可直接按照参考书P15的方法实施，因为P15的消元过程实际并未将A矩阵主对角线以下元素化为0，这是因为高斯消去法回带的过程未调用这些元素。若要借助高斯消去法将某个矩阵化为上三角矩阵，一种易犯的错误是，在高斯消元过程中，将下列公式中的j从k开始取值。这样虽然理论上可以使A变成上三角矩阵，但实际上，由于数值误差的存在，此时每行主对角线元素左边相邻元素的值常常是一个接近0的很小的值（是两个float型相减产生的），这种并不精确的置零可能导致某些问题。因此，理想的做法，要么是使用如下公式变换后，再将主对角线以下元素手动置零（本文做法），要么是不存储A主对角线以下元素。\n",
    "\n",
    "$$m_{i k}=a_{i k}^{(k)} / a_{k k}^{(k)}$$  \n",
    "\n",
    "$$a_{i j}^{(k+1)}=a_{i j}^{(k)}-m_{i k} a_{k j}^{(k)} \\quad(j=k+1, k+2, \\cdots, n)$$  \n",
    "\n",
    "$$b_{i}^{(k+1)}=b_{i}^{(k)}-m_{i k} b_{k}^{(k)}$$\n",
    "\n",
    "3. 使用CSR Matrix存储稀疏矩阵，实际上是牺牲了索引矩阵元素的速度，换来了内存开销的降低。\n",
    "4. 在编程中值得注意的一个问题是，Python统一使用引用传递，对于可变(mutable)对象，包括list,dict等，子函数对变量的操作是直接在变量的原地址操作，因此若子函数改变了变量的值，主程序中变量的值也会更改；对于不可变（immutable）对象，包括strings,tuples,numbers等，子函数对变量值的操作是对新拷贝的一个副本操作，因此即使子函数改变了变量的值，主程序中变量的值也不会更改。"
   ]
  }
 ],
 "metadata": {
  "kernelspec": {
   "display_name": "Python 3 (ipykernel)",
   "language": "python",
   "name": "python3"
  },
  "language_info": {
   "codemirror_mode": {
    "name": "ipython",
    "version": 3
   },
   "file_extension": ".py",
   "mimetype": "text/x-python",
   "name": "python",
   "nbconvert_exporter": "python",
   "pygments_lexer": "ipython3",
   "version": "3.8.12"
  }
 },
 "nbformat": 4,
 "nbformat_minor": 5
}
