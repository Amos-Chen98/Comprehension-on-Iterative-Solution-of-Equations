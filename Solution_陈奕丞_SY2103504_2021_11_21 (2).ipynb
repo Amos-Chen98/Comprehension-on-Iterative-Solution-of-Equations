{
 "cells": [
  {
   "cell_type": "markdown",
   "id": "afbff22f",
   "metadata": {},
   "source": [
    "# 数值分析第一次大作业\n",
    "\n",
    "参考书：《数值分析（第4版）》 颜庆津 北京航空航天大学出版社\n",
    "\n",
    "题目：P239 第四题"
   ]
  },
  {
   "cell_type": "code",
   "execution_count": 92,
   "id": "aa66b247",
   "metadata": {},
   "outputs": [],
   "source": [
    "import math"
   ]
  },
  {
   "cell_type": "code",
   "execution_count": 93,
   "id": "863be504",
   "metadata": {},
   "outputs": [
    {
     "name": "stdout",
     "output_type": "stream",
     "text": [
      "1.0\n"
     ]
    }
   ],
   "source": [
    "k_dim = 1000\n",
    "t_array =  [1 + 0.001 * (k - 1) for k in range(1, k_dim + 1)]\n",
    "print(t_array[0])"
   ]
  },
  {
   "cell_type": "code",
   "execution_count": 94,
   "id": "ab997919",
   "metadata": {},
   "outputs": [],
   "source": [
    "def f_b(b, t):\n",
    "    return math.exp(-t * b) - t * math.log(b)"
   ]
  },
  {
   "cell_type": "markdown",
   "id": "5f55196a",
   "metadata": {},
   "source": [
    "使用割线法求解非线性方程（参考：P80）"
   ]
  },
  {
   "cell_type": "code",
   "execution_count": 95,
   "id": "0c12562e",
   "metadata": {},
   "outputs": [],
   "source": [
    "def solve_b(k):\n",
    "    iter_num = 0\n",
    "    t = t_array[k - 1]\n",
    "    x_ = 0\n",
    "    x_k = 0.9\n",
    "    x_k1 = 2\n",
    "    while abs(x_k - x_) / abs(x_k) > 1e-12:\n",
    "        iter_num += 1\n",
    "        x_ = x_k\n",
    "        x_k = x_k1\n",
    "        x_k1 = x_k - (f_b(x_k, t) * (x_k - x_)) / (f_b(x_k, t) - f_b(x_, t)) # 割线法\n",
    "        \n",
    "#     print('Return after %d iterations' % iter_num)\n",
    "    return x_k1"
   ]
  },
  {
   "cell_type": "markdown",
   "id": "5ddf3c71",
   "metadata": {},
   "source": [
    "求b_k"
   ]
  },
  {
   "cell_type": "code",
   "execution_count": 99,
   "id": "2d71ee58",
   "metadata": {},
   "outputs": [],
   "source": [
    "b_array = [solve_b(k) for k in range(1, 1001)]\n",
    "# print(b_array)"
   ]
  },
  {
   "cell_type": "markdown",
   "id": "1f64e6b3",
   "metadata": {},
   "source": [
    "非线性方程组(A.1)"
   ]
  },
  {
   "cell_type": "code",
   "execution_count": null,
   "id": "4bb92280",
   "metadata": {},
   "outputs": [],
   "source": [
    "def F_A(x, k):\n",
    "    t = t_array[k - 1]\n",
    "    f1 = math.exp(-x[0]) + math.exp(-2 * x[1]) + x[2] - 2 * x[3] + t * x[4] - 5.3\n",
    "    f2 = math.exp(-2 * x[0]) + math.exp(-x[1]) - 2 * x[2] + t * x[3] - x[4] + 25.6\n",
    "    f3 = t * x[0] + 3 * x[1] + math.exp(-x[2]) - 3 * x[4] + 37.8\n",
    "    f4 = 2 * x[0] + t * x[1] + x[2] - math.exp(-x[3]) + 2 * math.exp(-2 * x[4]) - 31.3\n",
    "    f5 = x[0] - 2 * x[1] - 3 * t * x[2] + math.exp(-2 * x[3]) + 3 * exp(-x[4]) + 42.1"
   ]
  }
 ],
 "metadata": {
  "kernelspec": {
   "display_name": "Python 3 (ipykernel)",
   "language": "python",
   "name": "python3"
  },
  "language_info": {
   "codemirror_mode": {
    "name": "ipython",
    "version": 3
   },
   "file_extension": ".py",
   "mimetype": "text/x-python",
   "name": "python",
   "nbconvert_exporter": "python",
   "pygments_lexer": "ipython3",
   "version": "3.8.12"
  }
 },
 "nbformat": 4,
 "nbformat_minor": 5
}
